{
 "cells": [
  {
   "cell_type": "code",
   "execution_count": 1,
   "metadata": {
    "collapsed": true
   },
   "outputs": [],
   "source": [
    "using Random, Distributions, StatsBase"
   ]
  },
  {
   "cell_type": "code",
   "execution_count": 57,
   "metadata": {
    "collapsed": true,
    "scrolled": true
   },
   "outputs": [],
   "source": [
    "dim = Dict(\"m\" => 50, \"d\" => 300);"
   ]
  },
  {
   "cell_type": "code",
   "execution_count": 3,
   "metadata": {},
   "outputs": [
    {
     "data": {
      "text/plain": [
       "counting (generic function with 1 method)"
      ]
     },
     "execution_count": 3,
     "metadata": {},
     "output_type": "execute_result"
    }
   ],
   "source": [
    "function counting(m, d)\n",
    "    return(zeros(m, m, d))\n",
    "end"
   ]
  },
  {
   "cell_type": "code",
   "execution_count": 77,
   "metadata": {},
   "outputs": [
    {
     "data": {
      "text/plain": [
       "buckets_generation (generic function with 1 method)"
      ]
     },
     "execution_count": 77,
     "metadata": {},
     "output_type": "execute_result"
    }
   ],
   "source": [
    "function buckets_generation(parameters, dim)\n",
    "    # Get Parameters\n",
    "    S = parameters[\"S\"]\n",
    "    r = parameters[\"r\"]\n",
    "    delta = parameters[\"delta\"]\n",
    "    sigma = parameters[\"sigma\"]\n",
    "    tau = parameters[\"tau\"]\n",
    "    m = dim[\"m\"]\n",
    "    d = dim[\"d\"]\n",
    "    \n",
    "    # h: step size, time_mesh: time\n",
    "    h = tau / d\n",
    "    \n",
    "    # Geometric Brownian Motion\n",
    "    min_stock_price = 0.0001\n",
    "    max_stock_price = 5*S\n",
    "    stock_price_mesh = [min_stock_price:(max_stock_price - min_stock_price)/(m - 1):max_stock_price;] .+ \n",
    "    zeros(dim[\"m\"], dim[\"d\"])\n",
    "    \n",
    "    return(stock_price_mesh)\n",
    "end"
   ]
  },
  {
   "cell_type": "code",
   "execution_count": 5,
   "metadata": {
    "collapsed": true,
    "scrolled": true
   },
   "outputs": [],
   "source": [
    "# Supposed now that M and e are historical observations of exercise multiples and forfeiture rates\n",
    "M = [2.0] # [2.1, 2.2, 2.5, 2.6, 2.8, 2.9]\n",
    "e = [0.06] # [0.08, 0.09, 0.095, 0.10, 0.10, 0.11]\n",
    "parameters = Dict(\"S\" => 50, \"K\" => 50,\"r\" => 0.075, \"delta\" => 0.0, \"sigma\" => 0.30, \"tau\" => 10, \n",
    "    \"vest\" => 3, \"M\" => M, \"e\" => e)\n",
    "buckets = buckets_generation(parameters, dim);"
   ]
  },
  {
   "cell_type": "code",
   "execution_count": 6,
   "metadata": {
    "scrolled": true
   },
   "outputs": [
    {
     "data": {
      "text/plain": [
       "lattice_generation (generic function with 1 method)"
      ]
     },
     "execution_count": 6,
     "metadata": {},
     "output_type": "execute_result"
    }
   ],
   "source": [
    "function help_map_index(S, buckets)\n",
    "    # S is a number at j th column \n",
    "    # buckets also j th column of buckets matrix\n",
    "    min_index = []\n",
    "    for s in S\n",
    "        append!(min_index, findmin(abs.(s .- buckets))[2])\n",
    "    end \n",
    "    return(transpose(min_index))\n",
    "end \n",
    "\n",
    "function map_index(stock_price_path, buckets, trial, d)\n",
    "    # Putting simulated stock price to its closest bucket.\n",
    "    count = zeros(trial, d)\n",
    "    for i = 1:d\n",
    "        count[:, i] = help_map_index(stock_price_path[:, i], buckets[:, i])\n",
    "    end  \n",
    "    return(count)\n",
    "end \n",
    "\n",
    "function gaussian_rand(trial, dim)\n",
    "    # Sampling from Gaussian Distribution\n",
    "    d = dim[\"d\"]\n",
    "    gaussian_rand = randn(trial, d)\n",
    "    return(gaussian_rand, -gaussian_rand)\n",
    "end\n",
    "\n",
    "function lattice_generation(parameters, buckets, dim, gaussian_rand, trial)\n",
    "    # Get Parameters\n",
    "    S = parameters[\"S\"]\n",
    "    r = parameters[\"r\"]\n",
    "    delta = parameters[\"delta\"]\n",
    "    sigma = parameters[\"sigma\"]\n",
    "    tau = parameters[\"tau\"]\n",
    "    m = dim[\"m\"]\n",
    "    d = dim[\"d\"]\n",
    "    \n",
    "    # h: step size, time_mesh: time\n",
    "    eps = 10 ^ -20\n",
    "    h = tau / d\n",
    "    time_mesh = transpose([h:h:tau;])\n",
    "    count = counting(m, d)\n",
    "    \n",
    "    # Simulation\n",
    "    stock_price_path = zeros(trial, d)\n",
    "    \n",
    "    # Geometric Brownian Motion (Vectorization)\n",
    "    stock_price_path[:, 1] .= S .+ (r .- delta) .* S .* h .+ (sigma .* sqrt(h) .* S) .* gaussian_rand[:, 1]\n",
    "    for i = 2:d\n",
    "        stock_price_path[:, i] .= stock_price_path[:, i - 1] .+ (r .- delta) .* h .* stock_price_path[:, i - 1] .+ \n",
    "        (sigma .* sqrt(h)) .* stock_price_path[:, i - 1] .* gaussian_rand[:, i]\n",
    "    end\n",
    "    \n",
    "    # Lattice generation\n",
    "    stock_price_path = map_index(stock_price_path, buckets, trial, d)\n",
    "    \n",
    "    for i = 1:(d - 1)  \n",
    "        # From layer i to layer i + 1\n",
    "        for (from, to) in zip(stock_price_path[:, i], stock_price_path[:, i + 1])\n",
    "            count[floor(Int64, from), floor(Int64, to), i] += 1\n",
    "        end \n",
    "        count[:, :, i] ./= (sum(count[:, :, i], dims = 2) .+ eps)\n",
    "    end \n",
    "    \n",
    "    # From first layer to root\n",
    "    count_root = countmap(stock_price_path[:, 1])\n",
    "    count_keys = collect(keys(count_root))\n",
    "    count_val = [count_root[i] for i in count_keys]\n",
    "    count_root = zeros(1, m)\n",
    "    \n",
    "    for (key, val) in zip(count_keys, count_val)\n",
    "        count_root[1, floor(Int64, key)] = val\n",
    "    end\n",
    "    count_root ./= (sum(count_root, dims = 2) .+ eps)\n",
    "    \n",
    "    # Transition Tensor\n",
    "    return(count, count_root)\n",
    "end "
   ]
  },
  {
   "cell_type": "code",
   "execution_count": 651,
   "metadata": {
    "collapsed": true,
    "scrolled": true
   },
   "outputs": [],
   "source": [
    "trial = 20000\n",
    "gaussian_rand_1, gaussian_rand_2 = gaussian_rand(trial, dim)\n",
    "\n",
    "# Antithetic Variate\n",
    "lattice_probability_1, root_probability_1 = lattice_generation(parameters, buckets, dim, gaussian_rand_1, trial);\n",
    "lattice_probability_2, root_probability_2 = lattice_generation(parameters, buckets, dim, gaussian_rand_2, trial);"
   ]
  },
  {
   "cell_type": "code",
   "execution_count": 7,
   "metadata": {},
   "outputs": [
    {
     "data": {
      "text/plain": [
       "discounting_process (generic function with 1 method)"
      ]
     },
     "execution_count": 7,
     "metadata": {},
     "output_type": "execute_result"
    }
   ],
   "source": [
    "function discounting_process(parameters, buckets, lattice_probability, root_probability, dim)\n",
    "    # Get Parameters\n",
    "    S = parameters[\"S\"]\n",
    "    K = parameters[\"K\"]\n",
    "    r = parameters[\"r\"]\n",
    "    delta = parameters[\"delta\"]\n",
    "    sigma = parameters[\"sigma\"]\n",
    "    tau = parameters[\"tau\"]\n",
    "    vest = parameters[\"vest\"]\n",
    "    M = parameters[\"M\"]\n",
    "    e = parameters[\"e\"]\n",
    "    m = dim[\"m\"]\n",
    "    d = dim[\"d\"]\n",
    "    \n",
    "    # h: step size, time_mesh: time\n",
    "    h = tau / d\n",
    "\n",
    "    # Payoff matrix\n",
    "    payoff_mesh = zeros(m, d)\n",
    "    for t = reverse(1:d)\n",
    "        if t == d\n",
    "            # When option is expired\n",
    "            payoff_mesh[:, t] = max.(buckets[:, t] .- K, 0)\n",
    "        else\n",
    "            # Random sampling of parameters\n",
    "            m_sample, e_sample = sample(M), sample(e)\n",
    "            for i = 1:m\n",
    "                # Probability weighted average payoff\n",
    "                weighted_payoff = transpose(lattice_probability[i, :, t]) * payoff_mesh[:, t + 1]\n",
    "                # American Call Payoff\n",
    "#                 payoff_mesh[i, t] = max(buckets[i, t] - K, exp(-r * h) * weighted_payoff)\n",
    "                # ESO payoff        \n",
    "                if (t * h >= vest) && (buckets[i, t] >= K * m_sample)\n",
    "                    payoff_mesh[i, t] = buckets[i, t] - K\n",
    "                elseif (t * h >= vest) && (buckets[i, t] < K * m_sample)\n",
    "                    payoff_mesh[i, t] = exp(- e_sample * h) * exp(-r * h) * weighted_payoff + \n",
    "                    (1- exp(-e_sample * h)) * max(buckets[i, t] - K, 0)\n",
    "                else\n",
    "                    payoff_mesh[i, t] = exp( - e_sample * h) * exp(-r * h) * weighted_payoff\n",
    "                end\n",
    "            end\n",
    "        end\n",
    "    end\n",
    "    \n",
    "    return(exp(-r * h) *(root_probability * payoff_mesh[:, 1]))\n",
    "end "
   ]
  },
  {
   "cell_type": "code",
   "execution_count": 653,
   "metadata": {},
   "outputs": [
    {
     "data": {
      "text/plain": [
       "1-element Array{Float64,1}:\n",
       " 18.84823203225294"
      ]
     },
     "execution_count": 653,
     "metadata": {},
     "output_type": "execute_result"
    }
   ],
   "source": [
    "option_price_1 = discounting_process(parameters, buckets, lattice_probability_1, root_probability_1, dim)\n",
    "option_price_2 = discounting_process(parameters, buckets, lattice_probability_2, root_probability_2, dim)\n",
    "antithetic_price = 0.5 * (option_price_1 + option_price_2)"
   ]
  },
  {
   "cell_type": "code",
   "execution_count": 13,
   "metadata": {},
   "outputs": [
    {
     "data": {
      "text/plain": [
       "cal_price (generic function with 1 method)"
      ]
     },
     "execution_count": 13,
     "metadata": {},
     "output_type": "execute_result"
    }
   ],
   "source": [
    "# Summary model\n",
    "function cal_price(parameters, dim)\n",
    "\n",
    "    buckets = buckets_generation(parameters, dim);\n",
    "    trial = 10000\n",
    "    \n",
    "    gaussian_rand_1, gaussian_rand_2 = gaussian_rand(trial, dim)\n",
    "    lattice_probability_1, root_probability_1 = lattice_generation(parameters, buckets, dim, gaussian_rand_1, trial)\n",
    "    lattice_probability_2, root_probability_2 = lattice_generation(parameters, buckets, dim, gaussian_rand_2, trial)\n",
    "    \n",
    "    option_price_1 = discounting_process(parameters, buckets, lattice_probability_1, root_probability_1, dim)\n",
    "    option_price_2 = discounting_process(parameters, buckets, lattice_probability_2, root_probability_2, dim)\n",
    "    antithetic_price = 0.5 * (option_price_1 + option_price_2)\n",
    "    \n",
    "    return(antithetic_price)\n",
    "end"
   ]
  },
  {
   "cell_type": "code",
   "execution_count": 80,
   "metadata": {},
   "outputs": [
    {
     "name": "stdout",
     "output_type": "stream",
     "text": [
      "1\n",
      "2\n",
      "3\n",
      "4\n",
      "5\n",
      "6\n",
      "7\n",
      "8\n",
      "9\n",
      "10\n",
      "11\n",
      "12\n",
      "13\n",
      "14\n",
      "15\n",
      "16\n",
      "17\n",
      "18\n",
      "19\n",
      "20\n",
      "21\n",
      "22\n",
      "23\n",
      "24\n",
      "25\n",
      "26\n",
      "27\n",
      "28\n",
      "29\n",
      "30\n"
     ]
    }
   ],
   "source": [
    "# Convergence analysis for d = 10, 20, ..., 300\n",
    "d_dim = [i for i in 10:10:300]\n",
    "p_dim = Any[]\n",
    "i = 1\n",
    "for d in d_dim\n",
    "    push!(p_dim, cal_price(parameters, Dict(\"m\" => 150, \"d\" => d)))\n",
    "    print(i, \"\\n\")\n",
    "    i = i + 1\n",
    "end"
   ]
  },
  {
   "cell_type": "code",
   "execution_count": 81,
   "metadata": {},
   "outputs": [
    {
     "data": {
      "image/svg+xml": [
       "<?xml version=\"1.0\" encoding=\"utf-8\"?>\n",
       "<svg xmlns=\"http://www.w3.org/2000/svg\" xmlns:xlink=\"http://www.w3.org/1999/xlink\" width=\"600\" height=\"400\" viewBox=\"0 0 2400 1600\">\n",
       "<defs>\n",
       "  <clipPath id=\"clip5300\">\n",
       "    <rect x=\"0\" y=\"0\" width=\"2400\" height=\"1600\"/>\n",
       "  </clipPath>\n",
       "</defs>\n",
       "<path clip-path=\"url(#clip5300)\" d=\"\n",
       "M0 1600 L2400 1600 L2400 0 L0 0  Z\n",
       "  \" fill=\"#ffffff\" fill-rule=\"evenodd\" fill-opacity=\"1\"/>\n",
       "<defs>\n",
       "  <clipPath id=\"clip5301\">\n",
       "    <rect x=\"480\" y=\"0\" width=\"1681\" height=\"1600\"/>\n",
       "  </clipPath>\n",
       "</defs>\n",
       "<path clip-path=\"url(#clip5300)\" d=\"\n",
       "M180.66 1487.47 L2352.76 1487.47 L2352.76 121.675 L180.66 121.675  Z\n",
       "  \" fill=\"#ffffff\" fill-rule=\"evenodd\" fill-opacity=\"1\"/>\n",
       "<defs>\n",
       "  <clipPath id=\"clip5302\">\n",
       "    <rect x=\"180\" y=\"121\" width=\"2173\" height=\"1367\"/>\n",
       "  </clipPath>\n",
       "</defs>\n",
       "<polyline clip-path=\"url(#clip5302)\" style=\"stroke:#000000; stroke-width:2; stroke-opacity:0.1; fill:none\" points=\"\n",
       "  878.077,1487.47 878.077,121.675 \n",
       "  \"/>\n",
       "<polyline clip-path=\"url(#clip5302)\" style=\"stroke:#000000; stroke-width:2; stroke-opacity:0.1; fill:none\" points=\"\n",
       "  1584.68,1487.47 1584.68,121.675 \n",
       "  \"/>\n",
       "<polyline clip-path=\"url(#clip5302)\" style=\"stroke:#000000; stroke-width:2; stroke-opacity:0.1; fill:none\" points=\"\n",
       "  2291.28,1487.47 2291.28,121.675 \n",
       "  \"/>\n",
       "<polyline clip-path=\"url(#clip5302)\" style=\"stroke:#000000; stroke-width:2; stroke-opacity:0.1; fill:none\" points=\"\n",
       "  180.66,1352.25 2352.76,1352.25 \n",
       "  \"/>\n",
       "<polyline clip-path=\"url(#clip5302)\" style=\"stroke:#000000; stroke-width:2; stroke-opacity:0.1; fill:none\" points=\"\n",
       "  180.66,1091.24 2352.76,1091.24 \n",
       "  \"/>\n",
       "<polyline clip-path=\"url(#clip5302)\" style=\"stroke:#000000; stroke-width:2; stroke-opacity:0.1; fill:none\" points=\"\n",
       "  180.66,830.219 2352.76,830.219 \n",
       "  \"/>\n",
       "<polyline clip-path=\"url(#clip5302)\" style=\"stroke:#000000; stroke-width:2; stroke-opacity:0.1; fill:none\" points=\"\n",
       "  180.66,569.203 2352.76,569.203 \n",
       "  \"/>\n",
       "<polyline clip-path=\"url(#clip5302)\" style=\"stroke:#000000; stroke-width:2; stroke-opacity:0.1; fill:none\" points=\"\n",
       "  180.66,308.187 2352.76,308.187 \n",
       "  \"/>\n",
       "<polyline clip-path=\"url(#clip5300)\" style=\"stroke:#000000; stroke-width:4; stroke-opacity:1; fill:none\" points=\"\n",
       "  180.66,1487.47 2352.76,1487.47 \n",
       "  \"/>\n",
       "<polyline clip-path=\"url(#clip5300)\" style=\"stroke:#000000; stroke-width:4; stroke-opacity:1; fill:none\" points=\"\n",
       "  180.66,1487.47 180.66,121.675 \n",
       "  \"/>\n",
       "<polyline clip-path=\"url(#clip5300)\" style=\"stroke:#000000; stroke-width:4; stroke-opacity:1; fill:none\" points=\"\n",
       "  878.077,1487.47 878.077,1471.09 \n",
       "  \"/>\n",
       "<polyline clip-path=\"url(#clip5300)\" style=\"stroke:#000000; stroke-width:4; stroke-opacity:1; fill:none\" points=\"\n",
       "  1584.68,1487.47 1584.68,1471.09 \n",
       "  \"/>\n",
       "<polyline clip-path=\"url(#clip5300)\" style=\"stroke:#000000; stroke-width:4; stroke-opacity:1; fill:none\" points=\"\n",
       "  2291.28,1487.47 2291.28,1471.09 \n",
       "  \"/>\n",
       "<polyline clip-path=\"url(#clip5300)\" style=\"stroke:#000000; stroke-width:4; stroke-opacity:1; fill:none\" points=\"\n",
       "  180.66,1352.25 206.725,1352.25 \n",
       "  \"/>\n",
       "<polyline clip-path=\"url(#clip5300)\" style=\"stroke:#000000; stroke-width:4; stroke-opacity:1; fill:none\" points=\"\n",
       "  180.66,1091.24 206.725,1091.24 \n",
       "  \"/>\n",
       "<polyline clip-path=\"url(#clip5300)\" style=\"stroke:#000000; stroke-width:4; stroke-opacity:1; fill:none\" points=\"\n",
       "  180.66,830.219 206.725,830.219 \n",
       "  \"/>\n",
       "<polyline clip-path=\"url(#clip5300)\" style=\"stroke:#000000; stroke-width:4; stroke-opacity:1; fill:none\" points=\"\n",
       "  180.66,569.203 206.725,569.203 \n",
       "  \"/>\n",
       "<polyline clip-path=\"url(#clip5300)\" style=\"stroke:#000000; stroke-width:4; stroke-opacity:1; fill:none\" points=\"\n",
       "  180.66,308.187 206.725,308.187 \n",
       "  \"/>\n",
       "<g clip-path=\"url(#clip5300)\">\n",
       "<text style=\"fill:#000000; fill-opacity:1; font-family:Arial,Helvetica Neue,Helvetica,sans-serif; font-size:48px; text-anchor:middle;\" transform=\"rotate(0, 878.077, 1541.47)\" x=\"878.077\" y=\"1541.47\">100</text>\n",
       "</g>\n",
       "<g clip-path=\"url(#clip5300)\">\n",
       "<text style=\"fill:#000000; fill-opacity:1; font-family:Arial,Helvetica Neue,Helvetica,sans-serif; font-size:48px; text-anchor:middle;\" transform=\"rotate(0, 1584.68, 1541.47)\" x=\"1584.68\" y=\"1541.47\">200</text>\n",
       "</g>\n",
       "<g clip-path=\"url(#clip5300)\">\n",
       "<text style=\"fill:#000000; fill-opacity:1; font-family:Arial,Helvetica Neue,Helvetica,sans-serif; font-size:48px; text-anchor:middle;\" transform=\"rotate(0, 2291.28, 1541.47)\" x=\"2291.28\" y=\"1541.47\">300</text>\n",
       "</g>\n",
       "<g clip-path=\"url(#clip5300)\">\n",
       "<text style=\"fill:#000000; fill-opacity:1; font-family:Arial,Helvetica Neue,Helvetica,sans-serif; font-size:48px; text-anchor:end;\" transform=\"rotate(0, 156.66, 1369.75)\" x=\"156.66\" y=\"1369.75\">18.9</text>\n",
       "</g>\n",
       "<g clip-path=\"url(#clip5300)\">\n",
       "<text style=\"fill:#000000; fill-opacity:1; font-family:Arial,Helvetica Neue,Helvetica,sans-serif; font-size:48px; text-anchor:end;\" transform=\"rotate(0, 156.66, 1108.74)\" x=\"156.66\" y=\"1108.74\">19.2</text>\n",
       "</g>\n",
       "<g clip-path=\"url(#clip5300)\">\n",
       "<text style=\"fill:#000000; fill-opacity:1; font-family:Arial,Helvetica Neue,Helvetica,sans-serif; font-size:48px; text-anchor:end;\" transform=\"rotate(0, 156.66, 847.719)\" x=\"156.66\" y=\"847.719\">19.5</text>\n",
       "</g>\n",
       "<g clip-path=\"url(#clip5300)\">\n",
       "<text style=\"fill:#000000; fill-opacity:1; font-family:Arial,Helvetica Neue,Helvetica,sans-serif; font-size:48px; text-anchor:end;\" transform=\"rotate(0, 156.66, 586.703)\" x=\"156.66\" y=\"586.703\">19.8</text>\n",
       "</g>\n",
       "<g clip-path=\"url(#clip5300)\">\n",
       "<text style=\"fill:#000000; fill-opacity:1; font-family:Arial,Helvetica Neue,Helvetica,sans-serif; font-size:48px; text-anchor:end;\" transform=\"rotate(0, 156.66, 325.687)\" x=\"156.66\" y=\"325.687\">20.1</text>\n",
       "</g>\n",
       "<g clip-path=\"url(#clip5300)\">\n",
       "<text style=\"fill:#000000; fill-opacity:1; font-family:Arial,Helvetica Neue,Helvetica,sans-serif; font-size:84px; text-anchor:middle;\" transform=\"rotate(0, 1266.71, 73.2)\" x=\"1266.71\" y=\"73.2\">When m = 150, d = 10 to 300</text>\n",
       "</g>\n",
       "<polyline clip-path=\"url(#clip5302)\" style=\"stroke:#009af9; stroke-width:4; stroke-opacity:1; fill:none\" points=\"\n",
       "  242.135,160.33 312.795,632.229 383.455,927.227 454.115,933.61 524.776,969.91 595.436,1103.5 666.096,1150.4 736.756,1222.8 807.417,1235.68 878.077,1247.69 \n",
       "  948.737,1252.45 1019.4,1188.1 1090.06,1198.23 1160.72,1150.15 1231.38,1245.87 1302.04,1269.28 1372.7,1283.68 1443.36,1281.79 1514.02,1241.59 1584.68,1330.63 \n",
       "  1655.34,1327.39 1726,1332.66 1796.66,1448.82 1867.32,1273.32 1937.98,1389.31 2008.64,1298.13 2079.3,1123.17 2149.96,1249.31 2220.62,1302.38 2291.28,1294.34 \n",
       "  \n",
       "  \"/>\n",
       "<path clip-path=\"url(#clip5300)\" d=\"\n",
       "M1775.92 326.155 L2280.76 326.155 L2280.76 205.195 L1775.92 205.195  Z\n",
       "  \" fill=\"#ffffff\" fill-rule=\"evenodd\" fill-opacity=\"1\"/>\n",
       "<polyline clip-path=\"url(#clip5300)\" style=\"stroke:#000000; stroke-width:4; stroke-opacity:1; fill:none\" points=\"\n",
       "  1775.92,326.155 2280.76,326.155 2280.76,205.195 1775.92,205.195 1775.92,326.155 \n",
       "  \"/>\n",
       "<polyline clip-path=\"url(#clip5300)\" style=\"stroke:#009af9; stroke-width:4; stroke-opacity:1; fill:none\" points=\"\n",
       "  1799.92,265.675 1943.92,265.675 \n",
       "  \"/>\n",
       "<g clip-path=\"url(#clip5300)\">\n",
       "<text style=\"fill:#000000; fill-opacity:1; font-family:Arial,Helvetica Neue,Helvetica,sans-serif; font-size:48px; text-anchor:start;\" transform=\"rotate(0, 1967.92, 283.175)\" x=\"1967.92\" y=\"283.175\">Option Price</text>\n",
       "</g>\n",
       "</svg>\n"
      ]
     },
     "execution_count": 81,
     "metadata": {},
     "output_type": "execute_result"
    }
   ],
   "source": [
    "# Plot of Convergence Analysis\n",
    "using Plots\n",
    "x = [i for i in 1:30]\n",
    "p = [p[1] for p in p_dim]\n",
    "plot(x, p,\n",
    "    title = \"When m = 150, d = 10 to 300\", label = \"Option Price\", \n",
    "    xtick = ([10, 20, 30], [\"100\", \"200\", \"300\"]))"
   ]
  },
  {
   "cell_type": "code",
   "execution_count": null,
   "metadata": {},
   "outputs": [],
   "source": []
  },
  {
   "cell_type": "code",
   "execution_count": null,
   "metadata": {
    "collapsed": true
   },
   "outputs": [],
   "source": []
  }
 ],
 "metadata": {
  "kernelspec": {
   "display_name": "Julia 1.0.0",
   "language": "julia",
   "name": "julia-1.0"
  },
  "language_info": {
   "file_extension": ".jl",
   "mimetype": "application/julia",
   "name": "julia",
   "version": "1.0.0"
  }
 },
 "nbformat": 4,
 "nbformat_minor": 2
}
